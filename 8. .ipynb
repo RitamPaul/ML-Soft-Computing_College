{
  "nbformat": 4,
  "nbformat_minor": 0,
  "metadata": {
    "colab": {
      "provenance": []
    },
    "kernelspec": {
      "name": "python3",
      "display_name": "Python 3"
    },
    "language_info": {
      "name": "python"
    }
  },
  "cells": [
    {
      "cell_type": "markdown",
      "source": [
        "solve the given maximization function f(x)=x^2, where x ranges from 0 to 31 by using GA with applying\n",
        "1. encoding technique (binary 5 length chromosome),\n",
        "2. selection operator (roulette wheel),\n",
        "3. crossover (one point).\n",
        "\n",
        "Find the value of x for which f(x) is max. Take initial four values and they are x=13, 24, 8, 19. Solve this problem using python"
      ],
      "metadata": {
        "id": "dE56hH0p6Hta"
      }
    },
    {
      "cell_type": "code",
      "execution_count": null,
      "metadata": {
        "colab": {
          "base_uri": "https://localhost:8080/"
        },
        "id": "fOW7wzja3UZ9",
        "outputId": "cad77f6a-896e-4d70-9154-88a8b2744a14"
      },
      "outputs": [
        {
          "output_type": "stream",
          "name": "stdout",
          "text": [
            "The value of x for which f(x) is maximum is: 25\n",
            "The maximum value of f(x) is: 625\n"
          ]
        }
      ],
      "source": [
        "import random\n",
        "\n",
        "# Define the objective function\n",
        "def fitness_function(x):\n",
        "    return x ** 2\n",
        "\n",
        "# Encode integers to 5-bit binary strings\n",
        "def encode(x):\n",
        "    return f\"{x:05b}\"\n",
        "\n",
        "# Decode 5-bit binary strings to integers\n",
        "def decode(binary_str):\n",
        "    return int(binary_str, 2)\n",
        "\n",
        "# Initial population\n",
        "population = [encode(x) for x in [13, 24, 8, 19]]\n",
        "\n",
        "# Roulette Wheel Selection\n",
        "def roulette_wheel_selection(population, fitness_values):\n",
        "    total_fitness = sum(fitness_values)\n",
        "    selection_probs = [f / total_fitness for f in fitness_values]\n",
        "    return population[random.choices(range(len(population)), weights=selection_probs, k=1)[0]]\n",
        "\n",
        "# One-point Crossover\n",
        "def one_point_crossover(parent1, parent2):\n",
        "    crossover_point = random.randint(1, len(parent1) - 1)\n",
        "    child1 = parent1[:crossover_point] + parent2[crossover_point:]\n",
        "    child2 = parent2[:crossover_point] + parent1[crossover_point:]\n",
        "    return child1, child2\n",
        "\n",
        "# Genetic Algorithm to maximize f(x) = x^2\n",
        "def genetic_algorithm(population, generations=10):\n",
        "    for generation in range(generations):\n",
        "        # Calculate fitness for each chromosome\n",
        "        decoded_values = [decode(chromosome) for chromosome in population]\n",
        "        fitness_values = [fitness_function(x) for x in decoded_values]\n",
        "\n",
        "        # Selection\n",
        "        new_population = []\n",
        "        for _ in range(len(population) // 2):\n",
        "            parent1 = roulette_wheel_selection(population, fitness_values)\n",
        "            parent2 = roulette_wheel_selection(population, fitness_values)\n",
        "\n",
        "            # Crossover\n",
        "            child1, child2 = one_point_crossover(parent1, parent2)\n",
        "            new_population.extend([child1, child2])\n",
        "\n",
        "        # Update population\n",
        "        population = new_population\n",
        "\n",
        "    # Find the best solution in the final population\n",
        "    decoded_values = [decode(chromosome) for chromosome in population]\n",
        "    fitness_values = [fitness_function(x) for x in decoded_values]\n",
        "    max_index = fitness_values.index(max(fitness_values))\n",
        "    best_solution = decoded_values[max_index]\n",
        "\n",
        "    return best_solution, max(fitness_values)\n",
        "\n",
        "# Run the genetic algorithm\n",
        "best_x, max_fitness = genetic_algorithm(population)\n",
        "print(f\"The value of x for which f(x) is maximum is: {best_x}\")\n",
        "print(f\"The maximum value of f(x) is: {max_fitness}\")\n"
      ]
    }
  ]
}