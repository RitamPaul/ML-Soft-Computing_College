{
  "nbformat": 4,
  "nbformat_minor": 0,
  "metadata": {
    "colab": {
      "provenance": []
    },
    "kernelspec": {
      "name": "python3",
      "display_name": "Python 3"
    },
    "language_info": {
      "name": "python"
    }
  },
  "cells": [
    {
      "cell_type": "markdown",
      "source": [
        "Let A and B be two fuzzy sets which have 20 elements with repective membership values (or grades).\n",
        "- Find center of gravity\n",
        "- WAV"
      ],
      "metadata": {
        "id": "IBD1UNFo-Zxp"
      }
    },
    {
      "cell_type": "code",
      "execution_count": null,
      "metadata": {
        "id": "4q-FDQen9cTz",
        "colab": {
          "base_uri": "https://localhost:8080/"
        },
        "outputId": "780c7e45-6d27-4d19-d91e-ad09922a0092"
      },
      "outputs": [
        {
          "output_type": "execute_result",
          "data": {
            "text/plain": [
              "(8.654787692807917,\n",
              " 10.053622505429436,\n",
              " 0.4577022883977855,\n",
              " 0.45482896427086345)"
            ]
          },
          "metadata": {},
          "execution_count": 2
        }
      ],
      "source": [
        "import numpy as np\n",
        "\n",
        "np.random.seed(42)\n",
        "A = np.random.rand(20)\n",
        "B = np.random.rand(20)\n",
        "\n",
        "# COG = sum(i * membership_value) / sum(membership_value)\n",
        "def center_of_gravity(set_values):\n",
        "    indices = np.arange(len(set_values))  # indices as 0, 1, 2, ..., 19\n",
        "    return np.sum(indices * set_values) / np.sum(set_values)\n",
        "\n",
        "# WAV = sum(membership_value) / number_of_elements\n",
        "def weighted_average_value(set_values):\n",
        "    return np.sum(set_values) / len(set_values)\n",
        "\n",
        "# Calculate COG and WAV for both sets A and B\n",
        "cog_A = center_of_gravity(A)\n",
        "cog_B = center_of_gravity(B)\n",
        "wav_A = weighted_average_value(A)\n",
        "wav_B = weighted_average_value(B)\n",
        "\n",
        "cog_A, cog_B, wav_A, wav_B"
      ]
    }
  ]
}