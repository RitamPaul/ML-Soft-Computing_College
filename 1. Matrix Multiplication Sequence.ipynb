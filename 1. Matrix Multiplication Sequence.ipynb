{
  "nbformat": 4,
  "nbformat_minor": 0,
  "metadata": {
    "colab": {
      "provenance": []
    },
    "kernelspec": {
      "name": "python3",
      "display_name": "Python 3"
    },
    "language_info": {
      "name": "python"
    }
  },
  "cells": [
    {
      "cell_type": "code",
      "execution_count": 5,
      "metadata": {
        "id": "oiUWn_zYcCFK",
        "colab": {
          "base_uri": "https://localhost:8080/"
        },
        "outputId": "77f1b9fa-3006-48b4-d0b0-f545cf3a4318"
      },
      "outputs": [
        {
          "output_type": "stream",
          "name": "stdout",
          "text": [
            "Enter the count of matrices = 5\n",
            "Dimension of matrix-1 separated by space = 5 7\n",
            "Dimension of matrix-2 separated by space = 3 7\n",
            "Dimension of matrix-3 separated by space = 11 7\n",
            "Dimension of matrix-4 separated by space = 11 5\n",
            "Dimension of matrix-5 separated by space = 7 3\n",
            "\n",
            "Matrix multiplication not possible \n",
            "\n"
          ]
        }
      ],
      "source": [
        "# Count of total matrices\n",
        "n = int(input(\"Enter the count of matrices = \"))\n",
        "\n",
        "# creating visited array for matrix\n",
        "vis = [False for i in range(0, n+1)]\n",
        "\n",
        "first_prev = [False for i in range(0, n+1)]\n",
        "\n",
        "# creating answer storage of [row, col]\n",
        "ans = list(list())\n",
        "\n",
        "# creating dimension map = {matrix_index : [row, col]}\n",
        "dim = dict()\n",
        "ind = 1\n",
        "while(ind <= n):\n",
        "    row, col = input(f\"Dimension of matrix-{ind} separated by space = \").split()\n",
        "    row, col = eval(row), eval(col)\n",
        "    dim[ind] = [row, col]\n",
        "    ind+=1\n",
        "\n",
        "\n",
        "# actual work function : recursive\n",
        "def helper(ind, prevrow, prevcol):\n",
        "    if(ind > n):\n",
        "        return True\n",
        "\n",
        "    for i in range(1, n+1):\n",
        "        currow, curcol = dim[i][0], dim[i][1]\n",
        "\n",
        "        if(not vis[i] and (prevcol==currow or curcol==prevrow)):\n",
        "            vis[i] = True\n",
        "            ans.append([currow, curcol])\n",
        "\n",
        "            if(prevcol==currow and helper(ind+1, prevrow, curcol)):\n",
        "                return True\n",
        "            elif(curcol==prevrow and helper(ind+1, currow, prevcol)):\n",
        "                first_prev[i-1] = True\n",
        "                return True\n",
        "\n",
        "            ans.pop()\n",
        "            vis[i] = False\n",
        "\n",
        "\n",
        "# wrapper function\n",
        "for i in range(1, n+1):\n",
        "    # start from thsi matrix\n",
        "    row, col = dim[i][0], dim[i][1]\n",
        "\n",
        "    vis[i] = True\n",
        "    ans.append([row, col])\n",
        "\n",
        "    if(helper(2, row, col)):\n",
        "        break\n",
        "\n",
        "    ans.pop()\n",
        "    vis[i] = False\n",
        "\n",
        "# printing answers\n",
        "prevrow, currow, prevcol, curcol = 0, 0, 0, 0\n",
        "if(len(ans) == n):\n",
        "    print(\"\\nThe Matrix multiplication sequence = \\n\")\n",
        "    for i in range(len(ans)):\n",
        "        currow = ans[i][0]\n",
        "        curcol = ans[i][1]\n",
        "\n",
        "        if(i == 0):\n",
        "            print(f\"Initially ({currow}, {curcol}) x I = ({currow}, {curcol})\")\n",
        "            prevrow, prevcol = currow, curcol\n",
        "            continue\n",
        "\n",
        "        if(first_prev[i]):\n",
        "            print(f\"current ({currow}, {curcol}) x previous ({prevrow}, {prevcol}) = ({currow}, {prevcol})\")\n",
        "            prevrow, prevcol = currow, prevcol\n",
        "        else:\n",
        "            print(f\"previous ({prevrow}, {prevcol}) x current ({currow}, {curcol}) = ({prevrow}, {curcol})\")\n",
        "            prevrow, prevcol = prevrow, curcol\n",
        "else:\n",
        "    print(\"\\nMatrix multiplication not possible \\n\")\n",
        "\n",
        "# Sample I/P :-\n",
        "# A1=(5,7), A2=(3,7), A3=(11,7), A4=(11,5), A5=(7,3)"
      ]
    }
  ]
}